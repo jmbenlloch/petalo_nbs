{
 "cells": [
  {
   "cell_type": "code",
   "execution_count": 1,
   "id": "considerable-enzyme",
   "metadata": {},
   "outputs": [],
   "source": [
    "import pandas as pd\n",
    "from glob import glob\n",
    "import numpy as np\n",
    "import tables as tb\n",
    "from sklearn.cluster import DBSCAN\n",
    "import matplotlib.pylab as plt\n",
    "%matplotlib inline"
   ]
  },
  {
   "cell_type": "code",
   "execution_count": 2,
   "id": "covered-illustration",
   "metadata": {},
   "outputs": [],
   "source": [
    "def get_files(run):\n",
    "    folder = f'/analysis/{run}/hdf5/data/*h5'\n",
    "    files = glob(folder)\n",
    "    files.sort()\n",
    "    return files"
   ]
  },
  {
   "cell_type": "code",
   "execution_count": 3,
   "id": "sufficient-topic",
   "metadata": {},
   "outputs": [],
   "source": [
    "def read_run_data(files):\n",
    "    dfs = []\n",
    "    for fname in files:\n",
    "        try:\n",
    "            df = pd.read_hdf(fname, 'data')\n",
    "            dfs.append(df)\n",
    "        except:\n",
    "            print(\"Error in file \", fname)\n",
    "    df = pd.concat(dfs).reset_index(drop=True)\n",
    "    return df"
   ]
  },
  {
   "cell_type": "code",
   "execution_count": 4,
   "id": "understanding-aircraft",
   "metadata": {},
   "outputs": [],
   "source": [
    "def get_evt_times(files):\n",
    "    time_dfs = []\n",
    "\n",
    "    for i, fname in enumerate(files):\n",
    "        df_time = pd.read_hdf(fname, 'dateEvents')\n",
    "        df_time['fileno'] = i\n",
    "        time_dfs.append(df_time)\n",
    "    df_times = pd.concat(time_dfs)\n",
    "    df_times['date'] = pd.to_datetime(df_times.timestamp, unit='us')\n",
    "\n",
    "    # Compute time difference between one event and the next\n",
    "    df_times['time_diff'] = np.abs((df_times.timestamp/1e6).diff(periods=-1))\n",
    "    df_times = df_times.fillna(0)\n",
    "    return df_times"
   ]
  },
  {
   "cell_type": "code",
   "execution_count": 5,
   "id": "intensive-strain",
   "metadata": {},
   "outputs": [],
   "source": [
    "def compute_tcoarse_wrap_arounds(df):\n",
    "    limits = df[df.tcoarse_diff < -30000].index\n",
    "    first  = df.index[0]\n",
    "    last   = df.index[-1]\n",
    "    limits = np.concatenate([np.array([first]), limits.values, np.array([last])])\n",
    "    return limits"
   ]
  },
  {
   "cell_type": "code",
   "execution_count": 6,
   "id": "relevant-animation",
   "metadata": {},
   "outputs": [],
   "source": [
    "def compute_tcoarse_nloops_per_event(df):\n",
    "    limits = df.groupby('evt_number').apply(compute_tcoarse_wrap_arounds)\n",
    "    \n",
    "    nloops = np.zeros(df.shape[0], dtype='int32')\n",
    "\n",
    "    for evt_limits in limits.values:\n",
    "        for i in range(evt_limits.shape[0]-1):\n",
    "            start = evt_limits[i]\n",
    "            end   = evt_limits[i+1]\n",
    "\n",
    "            nloops[start:end+1] = i\n",
    "            \n",
    "    return nloops    "
   ]
  },
  {
   "cell_type": "code",
   "execution_count": 7,
   "id": "swedish-wholesale",
   "metadata": {},
   "outputs": [],
   "source": [
    "def compute_extended_tcoarse(df):\n",
    "    return df['tcoarse'] + df['nloops'] * 2**16"
   ]
  },
  {
   "cell_type": "code",
   "execution_count": 8,
   "id": "biblical-hepatitis",
   "metadata": {},
   "outputs": [],
   "source": [
    "def compute_integration_window_size(df):\n",
    "    df['intg_w'] = (df.ecoarse - (df.tcoarse % 2**10)).astype('int16')\n",
    "    df.loc[df['intg_w'] < 0, 'intg_w'] += 2**10"
   ]
  },
  {
   "cell_type": "code",
   "execution_count": 9,
   "id": "electrical-conversation",
   "metadata": {},
   "outputs": [],
   "source": [
    "def apply_qdc_correction(df, df_qdc):\n",
    "    df = df.reset_index().merge(df_qdc[['channel_id', 'tac_id', 'qoffset', 'ibias']], on=['channel_id', 'tac_id'])\n",
    "    df['charge_corrected'] = df.efine - (df.ibias*df.intg_w + df.qoffset)\n",
    "    df.drop(columns=['qoffset', 'ibias'], inplace=True)\n",
    "    df = df.sort_values('index').set_index('index')\n",
    "    df.index.name = None\n",
    "    return df"
   ]
  },
  {
   "cell_type": "code",
   "execution_count": 10,
   "id": "saved-identity",
   "metadata": {},
   "outputs": [],
   "source": [
    "def apply_tdc_correction(df, df_tdc):\n",
    "    df = df.reset_index().merge(df_tdc[['channel_id', 'tac_id', 'amplitude', 'offset']], on=['channel_id', 'tac_id'])\n",
    "    df = df.sort_values('index').set_index('index')\n",
    "    df.index.name = None\n",
    "    \n",
    "    period = 360\n",
    "    df['tfine_corrected'] = (period/np.pi)*np.arctan(1/np.tan((np.pi/(-2*df.amplitude))*(df.tfine-df.offset)))\n",
    "    df.loc[df['tfine_corrected'] < 0, 'tfine_corrected'] += period\n",
    "    df = df.drop(columns=['amplitude', 'offset'])\n",
    "    df['t'] = df.tcoarse - (360 - df.tfine_corrected) / 360\n",
    "    return df"
   ]
  },
  {
   "cell_type": "markdown",
   "id": "aggressive-norway",
   "metadata": {},
   "source": [
    "### Read file by chunks "
   ]
  },
  {
   "cell_type": "code",
   "execution_count": 11,
   "id": "polyphonic-rochester",
   "metadata": {},
   "outputs": [],
   "source": [
    "def process_daq_df(df, df_tdc, df_qdc):\n",
    "    # Remove non-used columns\n",
    "    df.drop(columns=['card_id', 'tofpet_id', 'wordtype_id'], inplace=True)\n",
    "    \n",
    "    # Add extended tcoarse\n",
    "    df['tcoarse']          = df.tcoarse.astype(np.int32)\n",
    "    df['tcoarse_diff']     = df.tcoarse.diff()\n",
    "    df['nloops']           = compute_tcoarse_nloops_per_event(df)\n",
    "    df['tcoarse_extended'] = compute_extended_tcoarse(df)\n",
    "    df.drop(columns=['tcoarse_diff', 'nloops'], inplace=True)\n",
    "    \n",
    "    # TODO: Use corrected timestamp to compute integration window\n",
    "    compute_integration_window_size(df)\n",
    "\n",
    "    # Add row and column\n",
    "    #df['x'] =  df.sensor_id // 10\n",
    "    #df['y'] =  df.sensor_id  % 10\n",
    "    \n",
    "    df = apply_qdc_correction(df, df_qdc)\n",
    "    df = apply_tdc_correction(df, df_tdc)\n",
    "    \n",
    "    df.drop(columns=['tac_id', 'ecoarse'], inplace=True)\n",
    "    \n",
    "    return df"
   ]
  },
  {
   "cell_type": "code",
   "execution_count": 12,
   "id": "structured-minister",
   "metadata": {},
   "outputs": [],
   "source": [
    "def write_corrected_df_daq(fileout, df, append=False):\n",
    "    table_name = 'data'\n",
    "    table_evt_numbers = 'evts'\n",
    "    mode = 'a' if append else 'w'\n",
    "    store = pd.HDFStore(fileout, mode, complib=str(\"zlib\"), complevel=4)\n",
    "    if append:\n",
    "        store.append(table_name, df, index=False, format='table', data_columns=None)\n",
    "        store.append(table_evt_numbers, df['evt_number'], index=False, format='table', data_columns=['evt_number'])\n",
    "    else:\n",
    "        store.put(table_name, df, index=False, format='table', data_columns=None)\n",
    "        store.append(table_evt_numbers, df['evt_number'], index=False, format='table', data_columns=['evt_number'])\n",
    "    store.close()"
   ]
  },
  {
   "cell_type": "code",
   "execution_count": 13,
   "id": "established-relevance",
   "metadata": {},
   "outputs": [],
   "source": [
    "def compute_file_chunks_indices(filein):\n",
    "    with tb.open_file(filein) as h5in:\n",
    "        evt_numbers = h5in.root.data.cols.evt_number[:]\n",
    "        evt_diffs  = np.diff(evt_numbers)\n",
    "        evt_limits = np.where(evt_diffs)[0]\n",
    "        \n",
    "        # Find borders that keep ~chunk_size rows per chunk\n",
    "        chunk_size   = 500000\n",
    "        chunk_diffs  = np.diff(evt_limits // chunk_size)\n",
    "        chunk_limits = np.where(chunk_diffs)[0]\n",
    "        \n",
    "        chunks = np.concatenate([np.array([0]),\n",
    "                         evt_limits[chunk_limits],\n",
    "                         np.array([evt_numbers.shape[0]])])\n",
    "        return chunks"
   ]
  },
  {
   "cell_type": "markdown",
   "id": "sporting-bubble",
   "metadata": {},
   "source": [
    "#### Compute clusters"
   ]
  },
  {
   "cell_type": "code",
   "execution_count": 14,
   "id": "afraid-consequence",
   "metadata": {},
   "outputs": [],
   "source": [
    "def compute_clusters(df):\n",
    "    values = df.tcoarse_extended.values\n",
    "    values = values.reshape(values.shape[0],1)\n",
    "\n",
    "    clusters = DBSCAN(eps=10, min_samples=2).fit(values)\n",
    "    return clusters.labels_"
   ]
  },
  {
   "cell_type": "code",
   "execution_count": 15,
   "id": "relative-pillow",
   "metadata": {},
   "outputs": [],
   "source": [
    "def compute_evt_number_combined_with_cluster_id(df):\n",
    "    df_clusters = df.groupby('evt_number').apply(compute_clusters)\n",
    "    df['cluster'] = np.concatenate(df_clusters.values)\n",
    "    df.loc[df[df.cluster != -1].index, 'cluster'] = df.evt_number * 20000 + df.cluster"
   ]
  },
  {
   "cell_type": "code",
   "execution_count": 16,
   "id": "accompanied-implementation",
   "metadata": {},
   "outputs": [],
   "source": [
    "def process_daq_file(filein, fileout):\n",
    "    chunks = compute_file_chunks_indices(filein)\n",
    "    nchunks = chunks.shape[0]\n",
    "    \n",
    "    for i in range(nchunks-1):\n",
    "        print(\"{}/{}\".format(i, nchunks-2))\n",
    "        start = chunks[i]\n",
    "        end   = chunks[i+1]\n",
    "\n",
    "        df = pd.read_hdf(filein, 'data', start=start, stop=end+1)\n",
    "\n",
    "        df_corrected = process_daq_df(df, df_tdc, df_qdc)\n",
    "        compute_evt_number_combined_with_cluster_id(df_corrected)\n",
    "        write_corrected_df_daq(fileout, df_corrected, i>0)"
   ]
  },
  {
   "cell_type": "markdown",
   "id": "incoming-blair",
   "metadata": {},
   "source": [
    "# Process file"
   ]
  },
  {
   "cell_type": "code",
   "execution_count": 17,
   "id": "fixed-fluid",
   "metadata": {},
   "outputs": [],
   "source": [
    "# QDC correction\n",
    "df_qdc = pd.read_hdf('efine_cal_asic0.h5')"
   ]
  },
  {
   "cell_type": "code",
   "execution_count": 18,
   "id": "nutritional-arrangement",
   "metadata": {},
   "outputs": [],
   "source": [
    "# TDC correction\n",
    "df_tdc = pd.read_hdf('asic0_tfine_cal.h5')"
   ]
  },
  {
   "cell_type": "code",
   "execution_count": 19,
   "id": "express-balance",
   "metadata": {},
   "outputs": [],
   "source": [
    "run_number = 10847 # 49V, lsb 57, Na-22"
   ]
  },
  {
   "cell_type": "code",
   "execution_count": 20,
   "id": "dependent-macro",
   "metadata": {},
   "outputs": [
    {
     "data": {
      "text/plain": [
       "['/analysis/10847/hdf5/data/run_10847_0000_trigger1_waveforms.h5',\n",
       " '/analysis/10847/hdf5/data/run_10847_0001_trigger1_waveforms.h5',\n",
       " '/analysis/10847/hdf5/data/run_10847_0002_trigger1_waveforms.h5',\n",
       " '/analysis/10847/hdf5/data/run_10847_0003_trigger1_waveforms.h5',\n",
       " '/analysis/10847/hdf5/data/run_10847_0004_trigger1_waveforms.h5',\n",
       " '/analysis/10847/hdf5/data/run_10847_0005_trigger1_waveforms.h5',\n",
       " '/analysis/10847/hdf5/data/run_10847_0006_trigger1_waveforms.h5',\n",
       " '/analysis/10847/hdf5/data/run_10847_0007_trigger1_waveforms.h5']"
      ]
     },
     "execution_count": 20,
     "metadata": {},
     "output_type": "execute_result"
    }
   ],
   "source": [
    "files = get_files(run_number)\n",
    "files"
   ]
  },
  {
   "cell_type": "code",
   "execution_count": 21,
   "id": "encouraging-roberts",
   "metadata": {},
   "outputs": [],
   "source": [
    "outfile = 'run_10847_0000.h5'"
   ]
  },
  {
   "cell_type": "code",
   "execution_count": 22,
   "id": "studied-basin",
   "metadata": {},
   "outputs": [
    {
     "name": "stdout",
     "output_type": "stream",
     "text": [
      "0/112\n",
      "1/112\n",
      "2/112\n",
      "3/112\n",
      "4/112\n",
      "5/112\n",
      "6/112\n",
      "7/112\n",
      "8/112\n",
      "9/112\n",
      "10/112\n",
      "11/112\n",
      "12/112\n",
      "13/112\n",
      "14/112\n",
      "15/112\n",
      "16/112\n",
      "17/112\n",
      "18/112\n",
      "19/112\n",
      "20/112\n",
      "21/112\n",
      "22/112\n",
      "23/112\n",
      "24/112\n",
      "25/112\n",
      "26/112\n",
      "27/112\n",
      "28/112\n",
      "29/112\n",
      "30/112\n",
      "31/112\n",
      "32/112\n",
      "33/112\n",
      "34/112\n",
      "35/112\n",
      "36/112\n",
      "37/112\n",
      "38/112\n",
      "39/112\n",
      "40/112\n",
      "41/112\n",
      "42/112\n",
      "43/112\n",
      "44/112\n",
      "45/112\n",
      "46/112\n",
      "47/112\n",
      "48/112\n",
      "49/112\n",
      "50/112\n",
      "51/112\n",
      "52/112\n",
      "53/112\n",
      "54/112\n",
      "55/112\n",
      "56/112\n",
      "57/112\n",
      "58/112\n",
      "59/112\n",
      "60/112\n",
      "61/112\n",
      "62/112\n",
      "63/112\n",
      "64/112\n",
      "65/112\n",
      "66/112\n",
      "67/112\n",
      "68/112\n",
      "69/112\n",
      "70/112\n",
      "71/112\n",
      "72/112\n",
      "73/112\n",
      "74/112\n",
      "75/112\n",
      "76/112\n",
      "77/112\n",
      "78/112\n",
      "79/112\n",
      "80/112\n",
      "81/112\n",
      "82/112\n",
      "83/112\n",
      "84/112\n",
      "85/112\n",
      "86/112\n",
      "87/112\n",
      "88/112\n",
      "89/112\n",
      "90/112\n",
      "91/112\n",
      "92/112\n",
      "93/112\n",
      "94/112\n",
      "95/112\n",
      "96/112\n",
      "97/112\n",
      "98/112\n",
      "99/112\n",
      "100/112\n",
      "101/112\n",
      "102/112\n",
      "103/112\n",
      "104/112\n",
      "105/112\n",
      "106/112\n",
      "107/112\n",
      "108/112\n",
      "109/112\n",
      "110/112\n",
      "111/112\n",
      "112/112\n"
     ]
    }
   ],
   "source": [
    "process_daq_file(files[0], outfile)"
   ]
  },
  {
   "cell_type": "code",
   "execution_count": 23,
   "id": "pacific-afternoon",
   "metadata": {},
   "outputs": [],
   "source": [
    "df = pd.read_hdf(outfile, '/data')"
   ]
  },
  {
   "cell_type": "code",
   "execution_count": 24,
   "id": "respective-binding",
   "metadata": {},
   "outputs": [
    {
     "data": {
      "text/html": [
       "<div>\n",
       "<style scoped>\n",
       "    .dataframe tbody tr th:only-of-type {\n",
       "        vertical-align: middle;\n",
       "    }\n",
       "\n",
       "    .dataframe tbody tr th {\n",
       "        vertical-align: top;\n",
       "    }\n",
       "\n",
       "    .dataframe thead th {\n",
       "        text-align: right;\n",
       "    }\n",
       "</style>\n",
       "<table border=\"1\" class=\"dataframe\">\n",
       "  <thead>\n",
       "    <tr style=\"text-align: right;\">\n",
       "      <th></th>\n",
       "      <th>evt_number</th>\n",
       "      <th>channel_id</th>\n",
       "      <th>sensor_id</th>\n",
       "      <th>tcoarse</th>\n",
       "      <th>tfine</th>\n",
       "      <th>efine</th>\n",
       "      <th>tcoarse_extended</th>\n",
       "      <th>intg_w</th>\n",
       "      <th>charge_corrected</th>\n",
       "      <th>tfine_corrected</th>\n",
       "      <th>t</th>\n",
       "      <th>cluster</th>\n",
       "    </tr>\n",
       "  </thead>\n",
       "  <tbody>\n",
       "    <tr>\n",
       "      <th>0</th>\n",
       "      <td>1</td>\n",
       "      <td>9</td>\n",
       "      <td>36</td>\n",
       "      <td>49594</td>\n",
       "      <td>232</td>\n",
       "      <td>238</td>\n",
       "      <td>49594</td>\n",
       "      <td>77</td>\n",
       "      <td>-9.098730</td>\n",
       "      <td>316.293818</td>\n",
       "      <td>49593.878594</td>\n",
       "      <td>20000</td>\n",
       "    </tr>\n",
       "    <tr>\n",
       "      <th>1</th>\n",
       "      <td>1</td>\n",
       "      <td>31</td>\n",
       "      <td>44</td>\n",
       "      <td>49594</td>\n",
       "      <td>226</td>\n",
       "      <td>225</td>\n",
       "      <td>49594</td>\n",
       "      <td>77</td>\n",
       "      <td>-6.952430</td>\n",
       "      <td>4.100319</td>\n",
       "      <td>49593.011390</td>\n",
       "      <td>20000</td>\n",
       "    </tr>\n",
       "    <tr>\n",
       "      <th>2</th>\n",
       "      <td>1</td>\n",
       "      <td>25</td>\n",
       "      <td>43</td>\n",
       "      <td>49595</td>\n",
       "      <td>240</td>\n",
       "      <td>148</td>\n",
       "      <td>49595</td>\n",
       "      <td>77</td>\n",
       "      <td>-15.179913</td>\n",
       "      <td>291.647669</td>\n",
       "      <td>49594.810132</td>\n",
       "      <td>20000</td>\n",
       "    </tr>\n",
       "    <tr>\n",
       "      <th>3</th>\n",
       "      <td>1</td>\n",
       "      <td>52</td>\n",
       "      <td>64</td>\n",
       "      <td>49594</td>\n",
       "      <td>245</td>\n",
       "      <td>233</td>\n",
       "      <td>49594</td>\n",
       "      <td>77</td>\n",
       "      <td>-2.747344</td>\n",
       "      <td>285.035161</td>\n",
       "      <td>49593.791764</td>\n",
       "      <td>20000</td>\n",
       "    </tr>\n",
       "    <tr>\n",
       "      <th>4</th>\n",
       "      <td>1</td>\n",
       "      <td>43</td>\n",
       "      <td>65</td>\n",
       "      <td>49594</td>\n",
       "      <td>274</td>\n",
       "      <td>145</td>\n",
       "      <td>49594</td>\n",
       "      <td>77</td>\n",
       "      <td>-17.296446</td>\n",
       "      <td>262.602472</td>\n",
       "      <td>49593.729451</td>\n",
       "      <td>20000</td>\n",
       "    </tr>\n",
       "    <tr>\n",
       "      <th>...</th>\n",
       "      <td>...</td>\n",
       "      <td>...</td>\n",
       "      <td>...</td>\n",
       "      <td>...</td>\n",
       "      <td>...</td>\n",
       "      <td>...</td>\n",
       "      <td>...</td>\n",
       "      <td>...</td>\n",
       "      <td>...</td>\n",
       "      <td>...</td>\n",
       "      <td>...</td>\n",
       "      <td>...</td>\n",
       "    </tr>\n",
       "    <tr>\n",
       "      <th>154926</th>\n",
       "      <td>17861</td>\n",
       "      <td>58</td>\n",
       "      <td>87</td>\n",
       "      <td>27542</td>\n",
       "      <td>271</td>\n",
       "      <td>110</td>\n",
       "      <td>1076118</td>\n",
       "      <td>78</td>\n",
       "      <td>-29.004578</td>\n",
       "      <td>203.660398</td>\n",
       "      <td>27541.565723</td>\n",
       "      <td>357220411</td>\n",
       "    </tr>\n",
       "    <tr>\n",
       "      <th>154927</th>\n",
       "      <td>17861</td>\n",
       "      <td>30</td>\n",
       "      <td>23</td>\n",
       "      <td>27540</td>\n",
       "      <td>388</td>\n",
       "      <td>209</td>\n",
       "      <td>1076116</td>\n",
       "      <td>77</td>\n",
       "      <td>-2.720294</td>\n",
       "      <td>37.418027</td>\n",
       "      <td>27539.103939</td>\n",
       "      <td>357220411</td>\n",
       "    </tr>\n",
       "    <tr>\n",
       "      <th>154928</th>\n",
       "      <td>17861</td>\n",
       "      <td>27</td>\n",
       "      <td>47</td>\n",
       "      <td>28771</td>\n",
       "      <td>260</td>\n",
       "      <td>227</td>\n",
       "      <td>1077347</td>\n",
       "      <td>77</td>\n",
       "      <td>-1.923844</td>\n",
       "      <td>260.009987</td>\n",
       "      <td>28770.722250</td>\n",
       "      <td>-1</td>\n",
       "    </tr>\n",
       "    <tr>\n",
       "      <th>154929</th>\n",
       "      <td>17861</td>\n",
       "      <td>56</td>\n",
       "      <td>77</td>\n",
       "      <td>27540</td>\n",
       "      <td>235</td>\n",
       "      <td>647</td>\n",
       "      <td>1076116</td>\n",
       "      <td>78</td>\n",
       "      <td>254.813956</td>\n",
       "      <td>315.513649</td>\n",
       "      <td>27539.876427</td>\n",
       "      <td>357220411</td>\n",
       "    </tr>\n",
       "    <tr>\n",
       "      <th>154930</th>\n",
       "      <td>17861</td>\n",
       "      <td>20</td>\n",
       "      <td>41</td>\n",
       "      <td>29410</td>\n",
       "      <td>261</td>\n",
       "      <td>167</td>\n",
       "      <td>1077986</td>\n",
       "      <td>77</td>\n",
       "      <td>-10.304366</td>\n",
       "      <td>280.202187</td>\n",
       "      <td>29409.778339</td>\n",
       "      <td>-1</td>\n",
       "    </tr>\n",
       "  </tbody>\n",
       "</table>\n",
       "<p>56151013 rows × 12 columns</p>\n",
       "</div>"
      ],
      "text/plain": [
       "        evt_number  channel_id  sensor_id  tcoarse  tfine  efine  \\\n",
       "0                1           9         36    49594    232    238   \n",
       "1                1          31         44    49594    226    225   \n",
       "2                1          25         43    49595    240    148   \n",
       "3                1          52         64    49594    245    233   \n",
       "4                1          43         65    49594    274    145   \n",
       "...            ...         ...        ...      ...    ...    ...   \n",
       "154926       17861          58         87    27542    271    110   \n",
       "154927       17861          30         23    27540    388    209   \n",
       "154928       17861          27         47    28771    260    227   \n",
       "154929       17861          56         77    27540    235    647   \n",
       "154930       17861          20         41    29410    261    167   \n",
       "\n",
       "        tcoarse_extended  intg_w  charge_corrected  tfine_corrected  \\\n",
       "0                  49594      77         -9.098730       316.293818   \n",
       "1                  49594      77         -6.952430         4.100319   \n",
       "2                  49595      77        -15.179913       291.647669   \n",
       "3                  49594      77         -2.747344       285.035161   \n",
       "4                  49594      77        -17.296446       262.602472   \n",
       "...                  ...     ...               ...              ...   \n",
       "154926           1076118      78        -29.004578       203.660398   \n",
       "154927           1076116      77         -2.720294        37.418027   \n",
       "154928           1077347      77         -1.923844       260.009987   \n",
       "154929           1076116      78        254.813956       315.513649   \n",
       "154930           1077986      77        -10.304366       280.202187   \n",
       "\n",
       "                   t    cluster  \n",
       "0       49593.878594      20000  \n",
       "1       49593.011390      20000  \n",
       "2       49594.810132      20000  \n",
       "3       49593.791764      20000  \n",
       "4       49593.729451      20000  \n",
       "...              ...        ...  \n",
       "154926  27541.565723  357220411  \n",
       "154927  27539.103939  357220411  \n",
       "154928  28770.722250         -1  \n",
       "154929  27539.876427  357220411  \n",
       "154930  29409.778339         -1  \n",
       "\n",
       "[56151013 rows x 12 columns]"
      ]
     },
     "execution_count": 24,
     "metadata": {},
     "output_type": "execute_result"
    }
   ],
   "source": [
    "df"
   ]
  },
  {
   "cell_type": "code",
   "execution_count": null,
   "id": "corresponding-natural",
   "metadata": {},
   "outputs": [],
   "source": []
  },
  {
   "cell_type": "markdown",
   "id": "apparent-policy",
   "metadata": {},
   "source": [
    "# Rate estimation"
   ]
  },
  {
   "cell_type": "code",
   "execution_count": 25,
   "id": "amber-surveillance",
   "metadata": {},
   "outputs": [],
   "source": [
    "def compute_file_chunks_indices_pandas(filein):\n",
    "    store = pd.HDFStore(outfile, 'r')\n",
    "    evt_numbers = store.select('/evts').values\n",
    "    store.close()\n",
    "\n",
    "    evt_diffs  = np.diff(evt_numbers)\n",
    "    evt_limits = np.where(evt_diffs)[0]\n",
    "\n",
    "    # Find borders that keep ~chunk_size rows per chunk\n",
    "    chunk_size   = 500000\n",
    "    chunk_diffs  = np.diff(evt_limits // chunk_size)\n",
    "    chunk_limits = np.where(chunk_diffs)[0]\n",
    "\n",
    "    chunks = np.concatenate([np.array([0]),\n",
    "                     evt_limits[chunk_limits],\n",
    "                     np.array([evt_numbers.shape[0]])])\n",
    "    return chunks"
   ]
  },
  {
   "cell_type": "code",
   "execution_count": 47,
   "id": "dated-eleven",
   "metadata": {},
   "outputs": [],
   "source": [
    "chunks = compute_file_chunks_indices_pandas(outfile)"
   ]
  },
  {
   "cell_type": "code",
   "execution_count": 27,
   "id": "international-anatomy",
   "metadata": {},
   "outputs": [
    {
     "name": "stdout",
     "output_type": "stream",
     "text": [
      "0/112\n",
      "1/112\n",
      "2/112\n",
      "3/112\n",
      "4/112\n",
      "5/112\n",
      "6/112\n",
      "7/112\n",
      "8/112\n",
      "9/112\n",
      "10/112\n",
      "11/112\n",
      "12/112\n",
      "13/112\n",
      "14/112\n",
      "15/112\n",
      "16/112\n",
      "17/112\n",
      "18/112\n",
      "19/112\n",
      "20/112\n",
      "21/112\n",
      "22/112\n",
      "23/112\n",
      "24/112\n",
      "25/112\n",
      "26/112\n",
      "27/112\n",
      "28/112\n",
      "29/112\n",
      "30/112\n",
      "31/112\n",
      "32/112\n",
      "33/112\n",
      "34/112\n",
      "35/112\n",
      "36/112\n",
      "37/112\n",
      "38/112\n",
      "39/112\n",
      "40/112\n",
      "41/112\n",
      "42/112\n",
      "43/112\n",
      "44/112\n",
      "45/112\n",
      "46/112\n",
      "47/112\n",
      "48/112\n",
      "49/112\n",
      "50/112\n",
      "51/112\n",
      "52/112\n",
      "53/112\n",
      "54/112\n",
      "55/112\n",
      "56/112\n",
      "57/112\n",
      "58/112\n",
      "59/112\n",
      "60/112\n",
      "61/112\n",
      "62/112\n",
      "63/112\n",
      "64/112\n",
      "65/112\n",
      "66/112\n",
      "67/112\n",
      "68/112\n",
      "69/112\n",
      "70/112\n",
      "71/112\n",
      "72/112\n",
      "73/112\n",
      "74/112\n",
      "75/112\n",
      "76/112\n",
      "77/112\n",
      "78/112\n",
      "79/112\n",
      "80/112\n",
      "81/112\n",
      "82/112\n",
      "83/112\n",
      "84/112\n",
      "85/112\n",
      "86/112\n",
      "87/112\n",
      "88/112\n",
      "89/112\n",
      "90/112\n",
      "91/112\n",
      "92/112\n",
      "93/112\n",
      "94/112\n",
      "95/112\n",
      "96/112\n",
      "97/112\n",
      "98/112\n",
      "99/112\n",
      "100/112\n",
      "101/112\n",
      "102/112\n",
      "103/112\n",
      "104/112\n",
      "105/112\n",
      "106/112\n",
      "107/112\n",
      "108/112\n",
      "109/112\n",
      "110/112\n",
      "111/112\n",
      "112/112\n"
     ]
    }
   ],
   "source": [
    "clusters = []\n",
    "\n",
    "chunks = compute_file_chunks_indices_pandas(outfile)\n",
    "nchunks = chunks.shape[0]\n",
    "\n",
    "for i in range(nchunks-1):\n",
    "    print(\"{}/{}\".format(i, nchunks-2))\n",
    "    start = chunks[i]\n",
    "    end   = chunks[i+1]\n",
    "\n",
    "    df = pd.read_hdf(outfile, 'data', start=start, stop=end+1)\n",
    "    clusters.append(df.cluster.values)\n",
    "\n",
    "clusters = np.concatenate(clusters)"
   ]
  },
  {
   "cell_type": "code",
   "execution_count": 31,
   "id": "directed-forest",
   "metadata": {},
   "outputs": [
    {
     "data": {
      "text/plain": [
       "5539448"
      ]
     },
     "execution_count": 31,
     "metadata": {},
     "output_type": "execute_result"
    }
   ],
   "source": [
    "evts = np.unique(clusters).shape[0]\n",
    "evts"
   ]
  },
  {
   "cell_type": "code",
   "execution_count": 29,
   "id": "other-yesterday",
   "metadata": {},
   "outputs": [],
   "source": [
    "df_times = get_evt_times([files[0]])"
   ]
  },
  {
   "cell_type": "code",
   "execution_count": 30,
   "id": "italian-amendment",
   "metadata": {},
   "outputs": [
    {
     "data": {
      "text/plain": [
       "61.709986"
      ]
     },
     "execution_count": 30,
     "metadata": {},
     "output_type": "execute_result"
    }
   ],
   "source": [
    "duration = df_times.timestamp.values.ptp() / 1e6\n",
    "duration "
   ]
  },
  {
   "cell_type": "code",
   "execution_count": 32,
   "id": "handy-sensitivity",
   "metadata": {},
   "outputs": [
    {
     "data": {
      "text/plain": [
       "89765.82817568618"
      ]
     },
     "execution_count": 32,
     "metadata": {},
     "output_type": "execute_result"
    }
   ],
   "source": [
    "rate = evts / duration\n",
    "rate"
   ]
  },
  {
   "cell_type": "code",
   "execution_count": 51,
   "id": "former-stamp",
   "metadata": {},
   "outputs": [
    {
     "data": {
      "text/plain": [
       "array([    20000,     20000,     20000, ...,        -1, 357220411,\n",
       "              -1])"
      ]
     },
     "execution_count": 51,
     "metadata": {},
     "output_type": "execute_result"
    }
   ],
   "source": [
    "clusters"
   ]
  },
  {
   "cell_type": "code",
   "execution_count": 35,
   "id": "packed-crown",
   "metadata": {},
   "outputs": [],
   "source": [
    "_, counts = np.unique(clusters, return_counts=True)"
   ]
  },
  {
   "cell_type": "code",
   "execution_count": 45,
   "id": "graduate-found",
   "metadata": {},
   "outputs": [
    {
     "data": {
      "text/plain": [
       "Text(0.5, 1.0, 'Sensors per real evt')"
      ]
     },
     "execution_count": 45,
     "metadata": {},
     "output_type": "execute_result"
    },
    {
     "data": {
      "image/png": "[encoded data removed]",
      "text/plain": [
       "<Figure size 432x288 with 1 Axes>"
      ]
     },
     "metadata": {
      "needs_background": "light"
     },
     "output_type": "display_data"
    }
   ],
   "source": [
    "plt.hist(counts, bins=64, range=[0, 63]);\n",
    "plt.title(\"Sensors per real evt\")"
   ]
  },
  {
   "cell_type": "code",
   "execution_count": 52,
   "id": "attached-approach",
   "metadata": {},
   "outputs": [
    {
     "data": {
      "text/plain": [
       "Text(0.5, 1.0, 'Sensors per real evt')"
      ]
     },
     "execution_count": 52,
     "metadata": {},
     "output_type": "execute_result"
    },
    {
     "data": {
      "image/png": "[encoded data removed]",
      "text/plain": [
       "<Figure size 432x288 with 1 Axes>"
      ]
     },
     "metadata": {
      "needs_background": "light"
     },
     "output_type": "display_data"
    }
   ],
   "source": [
    "plt.hist(counts, bins=24, range=[40, 63]);\n",
    "plt.title(\"Sensors per real evt\")"
   ]
  },
  {
   "cell_type": "code",
   "execution_count": 46,
   "id": "presidential-construction",
   "metadata": {},
   "outputs": [
    {
     "data": {
      "text/plain": [
       "8134053"
      ]
     },
     "execution_count": 46,
     "metadata": {},
     "output_type": "execute_result"
    }
   ],
   "source": [
    "counts[0]"
   ]
  },
  {
   "cell_type": "code",
   "execution_count": null,
   "id": "governing-kuwait",
   "metadata": {},
   "outputs": [],
   "source": []
  }
 ],
 "metadata": {
  "kernelspec": {
   "display_name": "Python 3",
   "language": "python",
   "name": "python3"
  },
  "language_info": {
   "codemirror_mode": {
    "name": "ipython",
    "version": 3
   },
   "file_extension": ".py",
   "mimetype": "text/x-python",
   "name": "python",
   "nbconvert_exporter": "python",
   "pygments_lexer": "ipython3",
   "version": "3.8.5"
  }
 },
 "nbformat": 4,
 "nbformat_minor": 5
}
